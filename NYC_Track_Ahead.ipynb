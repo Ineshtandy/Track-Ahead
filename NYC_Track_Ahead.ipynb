{
  "nbformat": 4,
  "nbformat_minor": 0,
  "metadata": {
    "colab": {
      "provenance": [],
      "authorship_tag": "ABX9TyNs/7f15SW3iULOiA9GIsEB",
      "include_colab_link": true
    },
    "kernelspec": {
      "name": "python3",
      "display_name": "Python 3"
    },
    "language_info": {
      "name": "python"
    }
  },
  "cells": [
    {
      "cell_type": "markdown",
      "metadata": {
        "id": "view-in-github",
        "colab_type": "text"
      },
      "source": [
        "<a href=\"https://colab.research.google.com/github/Ineshtandy/Track-Ahead/blob/main/NYC_Track_Ahead.ipynb\" target=\"_parent\"><img src=\"https://colab.research.google.com/assets/colab-badge.svg\" alt=\"Open In Colab\"/></a>"
      ]
    },
    {
      "cell_type": "code",
      "execution_count": null,
      "metadata": {
        "id": "8NCYXzGzxGna"
      },
      "outputs": [],
      "source": [
        "import pandas as pd\n",
        "import numpy as np\n",
        "import matplotlib.pyplot as plt\n",
        "import seaborn as sns\n",
        "import requests\n",
        "import json"
      ]
    },
    {
      "cell_type": "markdown",
      "source": [
        "**Getting the Data**\n",
        "\n",
        "Api only allows getting 1000 rows at a time, hence a for loop to get every 1000 rows."
      ],
      "metadata": {
        "id": "QBrg75fE4RUS"
      }
    },
    {
      "cell_type": "code",
      "source": [
        "def get_data(url):\n",
        "  data_segment_1000 = []\n",
        "  for i in range(0,10): #from 0-1000, 1001-2000, 2001-3000....9001-10000 since api is limited to 1000 rows on each call\n",
        "    query = f\"{url}?$limit=1000&$offset={i*1000}\"\n",
        "    response = requests.get(query)\n",
        "    data = response.json()\n",
        "    data_segment_1000.append(data)\n",
        "\n",
        "  final_df = pd.DataFrame()\n",
        "  for row in data_segment_1000:\n",
        "    df = pd.DataFrame(row)\n",
        "    final_df = pd.concat([final_df, df])\n",
        "\n",
        "  return final_df"
      ],
      "metadata": {
        "id": "-D4AOzU82Avd"
      },
      "execution_count": null,
      "outputs": []
    },
    {
      "cell_type": "code",
      "source": [
        "hourly_ridership_df = get_data(\"https://data.ny.gov/resource/wujg-7c2s.json\")\n",
        "hourly_ridership_df.to_csv('hourly_ridership.csv')"
      ],
      "metadata": {
        "id": "rH3c98Dpz_rT"
      },
      "execution_count": null,
      "outputs": []
    },
    {
      "cell_type": "markdown",
      "source": [
        "Subway station data:\n",
        "\n",
        "a) name \\\\\n",
        "b) complex_id (this id will help link the station information with other mta datasets) \\\\\n",
        "c) coordinates \\\\"
      ],
      "metadata": {
        "id": "xJsibibM70AV"
      }
    },
    {
      "cell_type": "code",
      "source": [
        "station_data = requests.get(\"https://data.ny.gov/resource/39hk-dx4f.json\")\n",
        "station_data = station_data.json()\n",
        "station_df = pd.DataFrame(station_data)\n",
        "station_df.to_csv('station_data.csv')"
      ],
      "metadata": {
        "id": "iKccSHJo6XjE"
      },
      "execution_count": null,
      "outputs": []
    }
  ]
}